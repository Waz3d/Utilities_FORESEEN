{
  "nbformat": 4,
  "nbformat_minor": 0,
  "metadata": {
    "colab": {
      "provenance": [],
      "authorship_tag": "ABX9TyPV5mtmw/KSib3tqyI9V7HK"
    },
    "kernelspec": {
      "name": "python3",
      "display_name": "Python 3"
    },
    "language_info": {
      "name": "python"
    }
  },
  "cells": [
    {
      "cell_type": "code",
      "execution_count": null,
      "metadata": {
        "id": "mhNiaQdJIEcB"
      },
      "outputs": [],
      "source": [
        "import csv\n",
        "import glob\n",
        "import os\n",
        "\n",
        "cols_to_remove = [\"cacc\", \"TD\"]\n",
        "index_to_remove = []\n",
        "names_to_change = [(\"V2V\", \"Network\"), (\"delay\", \"CACC\")]\n",
        "\n",
        "def remove_cols(filename): #Ok funziona\n",
        "  with open(filename + '.csv','r') as csvfile, open(filename + \"_new.csv\", \"w\") as out:\n",
        "      raw_data = csv.reader(csvfile, delimiter = ',')\n",
        "      writer_file = csv.writer(out, delimiter = ',')\n",
        "      for row in raw_data:\n",
        "        if \"time\" in row[0]: #change names in the first row only\n",
        "          for col in row:\n",
        "            if \"time\" in col:\n",
        "              continue\n",
        "            #remove cols\n",
        "            for name in cols_to_remove:\n",
        "              if name in col:\n",
        "                index_to_remove.append(row.index(col))\n",
        "        for i in range(0, len(index_to_remove)):\n",
        "          row.pop(index_to_remove[i] - i)\n",
        "        writer_file.writerow(row)\n",
        "\n",
        "def fix_dataset(filename):  #Ok working\n",
        "  with open(filename + '_new.csv','r') as csvfile, open(filename + \"_final.csv\", \"w\") as out:\n",
        "      raw_data = csv.reader(csvfile, delimiter = ',')\n",
        "      writer_file = csv.writer(out, delimiter = ',')\n",
        "      for row in raw_data:\n",
        "        if \"time\" in row[0]:\n",
        "          for col in row:\n",
        "            if \"time\" in col:\n",
        "              continue\n",
        "            #rename cols\n",
        "            name_components = col.split(\".\")\n",
        "            if names_to_change[0][0] in name_components[0]:\n",
        "              name_components[0] = names_to_change[0][1]\n",
        "            elif names_to_change[1][0] in name_components[0]:\n",
        "              vehicle = str(name_components[1][-1])\n",
        "              name_components[0] = names_to_change[1][1] + vehicle\n",
        "              name_components[2] = \"Acceleration_desired_\" + vehicle\n",
        "            new_name = name_components[0] + \".\" + name_components[2]\n",
        "            index = row.index(col)\n",
        "            row[index] = new_name\n",
        "          writer_file.writerow(row)\n",
        "          continue\n",
        "        time = float(row[0])\n",
        "        if time <= 11: #Warm-up time\n",
        "          continue\n",
        "        else:\n",
        "          writer_file.writerow(row)\n",
        "\n",
        "# directory/folder path\n",
        "dir_path = r'./*.csv'\n",
        "\n",
        "# Returns a list of names in list files.\n",
        "files = glob.glob(dir_path, recursive = True)\n",
        "\n",
        "for file in files:\n",
        "    filename = file.split(\".csv\")[0]\n",
        "    remove_cols(filename)\n",
        "    fix_dataset(filename)"
      ]
    }
  ]
}