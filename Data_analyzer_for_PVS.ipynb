{
  "nbformat": 4,
  "nbformat_minor": 0,
  "metadata": {
    "colab": {
      "provenance": [],
      "authorship_tag": "ABX9TyMdQU0ZLRFjHN/pPHMv/Vla",
      "include_colab_link": true
    },
    "kernelspec": {
      "name": "python3",
      "display_name": "Python 3"
    },
    "language_info": {
      "name": "python"
    },
    "accelerator": "GPU"
  },
  "cells": [
    {
      "cell_type": "markdown",
      "metadata": {
        "id": "view-in-github",
        "colab_type": "text"
      },
      "source": [
        "<a href=\"https://colab.research.google.com/github/Waz3d/Utilities_FORESEEN/blob/main/Data_analyzer_for_PVS.ipynb\" target=\"_parent\"><img src=\"https://colab.research.google.com/assets/colab-badge.svg\" alt=\"Open In Colab\"/></a>"
      ]
    },
    {
      "cell_type": "code",
      "metadata": {
        "id": "qD89fWcSMAkb",
        "colab": {
          "base_uri": "https://localhost:8080/"
        },
        "outputId": "87fe3b82-7526-4ae6-f64b-30005ec797b8"
      },
      "source": [
        "import csv\n",
        "import glob\n",
        "import os\n",
        "import statistics\n",
        "\n",
        "inputs = []\n",
        "targets = []\n",
        "def read_cols(filename): #Ok funziona\n",
        "  with open(filename + '.csv','r') as csvfile:\n",
        "    raw_data = csv.reader(csvfile, delimiter = ',')\n",
        "    container = []\n",
        "    for row in raw_data:\n",
        "      if \"time\" in row[0]: #change names in the first row only\n",
        "        for col in row:\n",
        "          if \"time\" in col:\n",
        "            continue\n",
        "          #remove cols\n",
        "      container.append(row)\n",
        "  return container\n",
        "\n",
        "# directory/folder path\n",
        "dir_path = r'./*.csv'\n",
        "\n",
        "# Returns a list of names in list files.\n",
        "files = glob.glob(dir_path, recursive = True)\n",
        "\n",
        "filename = files[0].split(\".csv\")[0]\n",
        "inputs = read_cols(filename)\n",
        "filename = files[1].split(\".csv\")[0]\n",
        "targets = read_cols(filename)\n",
        "removed = 0\n",
        "\n",
        "mean_distance = []\n",
        "std_distance = []\n",
        "mean_speed = []\n",
        "std_speed = []\n",
        "\n",
        "for i in range(0, len(inputs)):\n",
        "  if targets[i][1] == '1': #1 for attack, 0 for nominal scenario\n",
        "    mean_distance.append(float(inputs[i][0]))\n",
        "    std_distance.append(float(inputs[i][1]))\n",
        "    mean_speed.append(float(inputs[i][2]))\n",
        "    std_speed.append(float(inputs[i][3]))\n",
        "\n",
        "print(len(mean_distance))\n",
        "print(\"Distance_mean's mean value under attack is: \" + str(statistics.mean(mean_distance)))\n",
        "print(\"Distance_mean's std value under attack is: \" + str(statistics.stdev(mean_distance)))\n",
        "print(\"Distance_std's mean value under attack is: \" + str(statistics.mean(std_distance)))\n",
        "print(\"Distance_std's std value under attack is: \" + str(statistics.stdev(std_distance)))\n",
        "\n",
        "print(\"Speed_mean's mean value under attack is: \" + str(statistics.mean(mean_speed)))\n",
        "print(\"Speed_mean's std value under attack is: \" + str(statistics.stdev(mean_speed)))\n",
        "print(\"Speed_std's mean value under attack is: \" + str(statistics.mean(std_speed)))\n",
        "print(\"Speed_std's std value under attack is: \" + str(statistics.stdev(std_speed)))"
      ],
      "execution_count": 22,
      "outputs": [
        {
          "output_type": "stream",
          "name": "stdout",
          "text": [
            "255366\n",
            "Distance_mean's mean value under attack is: 38.68610587116723\n",
            "Distance_mean's std value under attack is: 8.16513372119379\n",
            "Distance_std's mean value under attack is: 1.0761180312917504\n",
            "Distance_std's std value under attack is: 2.946865103935072\n",
            "Speed_mean's mean value under attack is: 3.610096539914318\n",
            "Speed_mean's std value under attack is: 13.322397323892408\n",
            "Speed_std's mean value under attack is: 1.255812747851206\n",
            "Speed_std's std value under attack is: 4.949810276840736\n"
          ]
        }
      ]
    }
  ]
}