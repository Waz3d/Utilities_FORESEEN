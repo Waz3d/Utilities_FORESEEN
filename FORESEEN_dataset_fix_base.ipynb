{
  "nbformat": 4,
  "nbformat_minor": 0,
  "metadata": {
    "colab": {
      "provenance": [],
      "authorship_tag": "ABX9TyOJx5AgoPA0I0gyKkYUcrhL",
      "include_colab_link": true
    },
    "kernelspec": {
      "name": "python3",
      "display_name": "Python 3"
    },
    "language_info": {
      "name": "python"
    }
  },
  "cells": [
    {
      "cell_type": "markdown",
      "metadata": {
        "id": "view-in-github",
        "colab_type": "text"
      },
      "source": [
        "<a href=\"https://colab.research.google.com/github/Waz3d/Utilities_FORESEEN/blob/main/FORESEEN_dataset_fix_base.ipynb\" target=\"_parent\"><img src=\"https://colab.research.google.com/assets/colab-badge.svg\" alt=\"Open In Colab\"/></a>"
      ]
    },
    {
      "cell_type": "code",
      "execution_count": 10,
      "metadata": {
        "id": "rM8YcqDEIgqA"
      },
      "outputs": [],
      "source": [
        "import csv\n",
        "import glob\n",
        "import os\n",
        "\n",
        "cols_to_remove = [\"Controller\"]\n",
        "index_to_remove = []\n",
        "names_to_change = [(\"SimpleCar\", \"Car\"), (\"x\", \"position\"), (\"output\", \"Perceived\")]\n",
        "\n",
        "def remove_cols(filename): #Ok funziona\n",
        "  with open(filename + '.csv','r') as csvfile, open(filename + \"_new.csv\", \"w\") as out:\n",
        "\t\t\traw_data = csv.reader(csvfile, delimiter = ',')\n",
        "\t\t\twriter_file = csv.writer(out, delimiter = ',')\n",
        "\t\t\tfor row in raw_data:\n",
        "\t\t\t\tif \"time\" in row[0]: #change names in the first row only\n",
        "\t\t\t\t\tfor col in row:\n",
        "\t\t\t\t\t\tif \"time\" in col:\n",
        "\t\t\t\t\t\t\tcontinue\n",
        "\t\t\t\t\t\t#remove cols\n",
        "\t\t\t\t\t\tfor name in cols_to_remove:\n",
        "\t\t\t\t\t\t\tif name in col:\n",
        "\t\t\t\t\t\t\t\tindex_to_remove.append(row.index(col))\n",
        "\t\t\t\tfor i in range(0, len(index_to_remove)):\n",
        "\t\t\t\t\tif len(index_to_remove) == 0:\n",
        "\t\t\t\t\t\tbreak\n",
        "\t\t\t\t\trow.pop(index_to_remove[i] - i)\n",
        "\t\t\t\twriter_file.writerow(row)\n",
        "\n",
        "def fix_dataset(filename):  #Ok working\n",
        "\twith open(filename + '_new.csv','r') as csvfile, open(filename + \"_final.csv\", \"w\") as out:\n",
        "\t\traw_data = csv.reader(csvfile, delimiter = ',')\n",
        "\t\twriter_file = csv.writer(out, delimiter = ',')\n",
        "\t\tfor row in raw_data:\n",
        "\t\t\tif \"time\" in row[0]:\n",
        "\t\t\t\tfor col in row:\n",
        "\t\t\t\t\tif \"time\" in col:\n",
        "\t\t\t\t\t\tcontinue\n",
        "\t\t\t\t\t#rename cols\n",
        "\t\t\t\t\tname_components = col.split(\".\")\n",
        "\t\t\t\t\tif names_to_change[0][0] in name_components[0]:\n",
        "\t\t\t\t\t\tvehicle = str(name_components[1][-3])\n",
        "\t\t\t\t\t\tname_components[0] = \"{\" + names_to_change[0][1] + vehicle + \"}\"\n",
        "\t\t\t\t\tif names_to_change[1][0] in name_components[2]:\n",
        "\t\t\t\t\t\tname_components[2] = names_to_change[1][1]\n",
        "\t\t\t\t\tif names_to_change[2][0] in name_components[2]:\n",
        "\t\t\t\t\t\tname_components[2] = names_to_change[2][1] + \"_\" + filename.split(\"/\")[1]\n",
        "\t\t\t\t\tnew_name = name_components[0] + \".\" + name_components[2]\n",
        "\t\t\t\t\tindex = row.index(col)\n",
        "\t\t\t\t\trow[index] = new_name\n",
        "\t\t\t\twriter_file.writerow(row)\n",
        "\t\t\t\tcontinue\n",
        "\t\t\t#time = float(row[0])\n",
        "\t\t\t#if time <= 11: #Warm-up time\n",
        "\t\t\t#\tcontinue\n",
        "\t\t\t#else:\n",
        "\t\t\twriter_file.writerow(row)\n",
        "\n",
        "\n",
        "# directory/folder path\n",
        "dir_path = r'./*.csv'\n",
        "\n",
        "# Returns a list of names in list files.\n",
        "files = glob.glob(dir_path, recursive = True)\n",
        "\n",
        "for file in files:\n",
        "\tfilename = file.split(\".csv\")[0]\n",
        "\tremove_cols(filename)\n",
        "\tindex_to_remove = []\n",
        "\tfix_dataset(filename)"
      ]
    },
    {
      "cell_type": "code",
      "source": [],
      "metadata": {
        "id": "lEO6J1poM6Oi"
      },
      "execution_count": null,
      "outputs": []
    }
  ]
}